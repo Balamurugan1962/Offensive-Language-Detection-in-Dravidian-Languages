{
 "cells": [
  {
   "cell_type": "markdown",
   "id": "6fd80bb9-7319-4d72-acbf-7008b77800fd",
   "metadata": {},
   "source": [
    "# BERT\n",
    "BERT is a Encoder only Transformer which converts words into **context aware embeding**\n",
    "\n",
    "Goal of this notebook is to understand basic BERT and try to use it.\n",
    "After that try to use mBERT for multilingual"
   ]
  },
  {
   "cell_type": "code",
   "execution_count": null,
   "id": "4ee98bbe-c6c8-4b7f-90a6-815d1459a276",
   "metadata": {},
   "outputs": [],
   "source": []
  }
 ],
 "metadata": {
  "kernelspec": {
   "display_name": "Python 3 (ipykernel)",
   "language": "python",
   "name": "python3"
  },
  "language_info": {
   "codemirror_mode": {
    "name": "ipython",
    "version": 3
   },
   "file_extension": ".py",
   "mimetype": "text/x-python",
   "name": "python",
   "nbconvert_exporter": "python",
   "pygments_lexer": "ipython3",
   "version": "3.13.5"
  }
 },
 "nbformat": 4,
 "nbformat_minor": 5
}
