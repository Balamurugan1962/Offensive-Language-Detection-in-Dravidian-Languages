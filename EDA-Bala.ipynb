{
 "cells": [
  {
   "cell_type": "markdown",
   "id": "6cc61523-c183-4d11-bbc4-65dbe5bc79be",
   "metadata": {},
   "source": [
    "# EDA For Offensive Language Classification"
   ]
  },
  {
   "cell_type": "code",
   "execution_count": 88,
   "id": "c4eed075-dfdf-4f5b-8672-48c0a16dd0a8",
   "metadata": {},
   "outputs": [
    {
     "name": "stderr",
     "output_type": "stream",
     "text": [
      "[nltk_data] Downloading package stopwords to\n",
      "[nltk_data]     /Users/balamurugan/nltk_data...\n",
      "[nltk_data]   Package stopwords is already up-to-date!\n"
     ]
    }
   ],
   "source": [
    "import pandas as pd\n",
    "import matplotlib.pyplot as plt\n",
    "import seaborn as sns\n",
    "\n",
    "import re\n",
    "import nltk\n",
    "from collections import Counter\n",
    "nltk.download('stopwords')\n",
    "\n",
    "from nltk.corpus import stopwords\n",
    "pd.set_option('display.max_colwidth', None)"
   ]
  },
  {
   "cell_type": "markdown",
   "id": "87e8bcac-ab1b-4079-99b2-3c4f1e896840",
   "metadata": {},
   "source": [
    "### Lets import the tamil dataset "
   ]
  },
  {
   "cell_type": "code",
   "execution_count": 89,
   "id": "a853b415-83c9-4464-86b5-07382cecf7d6",
   "metadata": {},
   "outputs": [
    {
     "data": {
      "text/html": [
       "<div>\n",
       "<style scoped>\n",
       "    .dataframe tbody tr th:only-of-type {\n",
       "        vertical-align: middle;\n",
       "    }\n",
       "\n",
       "    .dataframe tbody tr th {\n",
       "        vertical-align: top;\n",
       "    }\n",
       "\n",
       "    .dataframe thead th {\n",
       "        text-align: right;\n",
       "    }\n",
       "</style>\n",
       "<table border=\"1\" class=\"dataframe\">\n",
       "  <thead>\n",
       "    <tr style=\"text-align: right;\">\n",
       "      <th></th>\n",
       "      <th>Text</th>\n",
       "      <th>Labels</th>\n",
       "    </tr>\n",
       "  </thead>\n",
       "  <tbody>\n",
       "    <tr>\n",
       "      <th>0</th>\n",
       "      <td>movie vara level la Erika poguthu</td>\n",
       "      <td>Not_offensive</td>\n",
       "    </tr>\n",
       "    <tr>\n",
       "      <th>1</th>\n",
       "      <td>I love Ajith Kumar Vivegam movie inki mjy bht achi lgi</td>\n",
       "      <td>not-Tamil</td>\n",
       "    </tr>\n",
       "    <tr>\n",
       "      <th>2</th>\n",
       "      <td>Padam nalla comedy padama irukum polaye..</td>\n",
       "      <td>Not_offensive</td>\n",
       "    </tr>\n",
       "    <tr>\n",
       "      <th>3</th>\n",
       "      <td>karthick subburaj anne .... intha padam vetri adaya unagalukku ennudaya valthukkal...</td>\n",
       "      <td>Not_offensive</td>\n",
       "    </tr>\n",
       "    <tr>\n",
       "      <th>4</th>\n",
       "      <td>கவுண்டர் தேவர்.சார்பாக வெற்றி பெற வாழ்த்துக்கள் 🦁</td>\n",
       "      <td>Not_offensive</td>\n",
       "    </tr>\n",
       "  </tbody>\n",
       "</table>\n",
       "</div>"
      ],
      "text/plain": [
       "                                                                                    Text  \\\n",
       "0                                                      movie vara level la Erika poguthu   \n",
       "1                                 I love Ajith Kumar Vivegam movie inki mjy bht achi lgi   \n",
       "2                                              Padam nalla comedy padama irukum polaye..   \n",
       "3  karthick subburaj anne .... intha padam vetri adaya unagalukku ennudaya valthukkal...   \n",
       "4                                      கவுண்டர் தேவர்.சார்பாக வெற்றி பெற வாழ்த்துக்கள் 🦁   \n",
       "\n",
       "          Labels  \n",
       "0  Not_offensive  \n",
       "1      not-Tamil  \n",
       "2  Not_offensive  \n",
       "3  Not_offensive  \n",
       "4  Not_offensive  "
      ]
     },
     "execution_count": 89,
     "metadata": {},
     "output_type": "execute_result"
    }
   ],
   "source": [
    "df = pd.read_csv('Dataset/tamil_offensive_full_train.csv')\n",
    "\n",
    "df.head()"
   ]
  },
  {
   "cell_type": "markdown",
   "id": "20f5fb20-dda3-4304-b77a-d8e7675e92ca",
   "metadata": {},
   "source": [
    "### Now lets check for null"
   ]
  },
  {
   "cell_type": "code",
   "execution_count": 90,
   "id": "75f8fc15-10fb-4786-8974-130bcb291871",
   "metadata": {},
   "outputs": [
    {
     "data": {
      "text/plain": [
       "Text      0\n",
       "Labels    0\n",
       "dtype: int64"
      ]
     },
     "execution_count": 90,
     "metadata": {},
     "output_type": "execute_result"
    }
   ],
   "source": [
    "df.isnull().sum()"
   ]
  },
  {
   "cell_type": "markdown",
   "id": "12a96761-7320-47c5-94a8-6c6bbd9f7505",
   "metadata": {},
   "source": [
    "So the data is clean without any null values\n",
    "\n",
    "### Lets check for the classes"
   ]
  },
  {
   "cell_type": "code",
   "execution_count": 75,
   "id": "0afd9cd7-7206-44a2-be8a-d69eb1a2df45",
   "metadata": {},
   "outputs": [
    {
     "data": {
      "text/plain": [
       "{'Not_offensive',\n",
       " 'Offensive_Targeted_Insult_Group',\n",
       " 'Offensive_Targeted_Insult_Individual',\n",
       " 'Offensive_Targeted_Insult_Other',\n",
       " 'Offensive_Untargetede',\n",
       " 'not-Tamil'}"
      ]
     },
     "execution_count": 75,
     "metadata": {},
     "output_type": "execute_result"
    }
   ],
   "source": [
    "set(df['Labels'])"
   ]
  },
  {
   "cell_type": "markdown",
   "id": "055f8594-84d7-472d-8ef1-fd2d669e0459",
   "metadata": {},
   "source": [
    "We have 6 main classes but they wanted output to be 4 classes"
   ]
  },
  {
   "cell_type": "code",
   "execution_count": 76,
   "id": "724bfe53-f967-4b00-99f3-13f95bda4f9a",
   "metadata": {},
   "outputs": [
    {
     "name": "stdout",
     "output_type": "stream",
     "text": [
      "Not_offensive: \n",
      "['movie vara level la Erika poguthu'\n",
      " 'Padam nalla comedy padama irukum polaye..'\n",
      " 'karthick subburaj anne .... intha padam vetri adaya unagalukku ennudaya valthukkal...'\n",
      " 'கவுண்டர் தேவர்.சார்பாக வெற்றி பெற வாழ்த்துக்கள் 🦁'\n",
      " 'ippo intha trailer ah parkuravana oru like podunga'] \n",
      "\n",
      "Offensive_Targeted_Insult_Group: \n",
      "['Dei Rajini pavam da ne varaven poraven ellam karithuppatha koraiya pesittu erukkan 1:58'\n",
      " 'Dey dey deyyy,, loosu pasangala,, munna pinna jayalalitha amma va pathrukingalada gambeeramna ennanu avanga kannula tha paakanum,, amma oda history ah ithu,, soniya gandhi mari iruku chaiiii,,, avanga bio edukanumna a-z pathutu vanthu edungadaa,, dummy akkaathinga'\n",
      " 'தமிழ் நாட்ல இருக்குற சாதிய பைத்தியகார கூதியானுங்கள எல்லாம் ஓரே இடத்தில் பார்க்க ஒரு வாய்ப்பை தந்த மோகன் வன்னிக்கு சாரி பன்னிக்கு நன்றிகள்'\n",
      " 'Comali 9looks teaser la varave Ella'\n",
      " 'Friend nu FB la Like Kudukkara Friend  dunu nenachiya life be kudukkanu da'] \n",
      "\n",
      "Offensive_Targeted_Insult_Individual: \n",
      "['Naaa arasiyalukku varuvathu uruthi.....Rajini tells this dialog since 96. Semme joke.'\n",
      " 'Pa Ranjith paru Da unaku sc St quote job government job quarters ellam cancel pannanum'\n",
      " '2.04 .Rajini ah serupala adicha Maari irundhuchu'\n",
      " 'Kaakaa pudikaa sollalllaa........kaakaa vukaaa unna pudikudhu🤣🤣'\n",
      " 'Mothathula viswasathuku bulb kudukkurathukagave yedutha mathiri iruku'] \n",
      "\n",
      "Offensive_Targeted_Insult_Other: \n",
      "['Correct. Enga apa military da oodi vilaiyada solli tharuvaaaayaa'\n",
      " 'Iron man fans dis like podunga intha vidio kku'\n",
      " 'Dislike adicha maannynmark naduviral namaskaram'\n",
      " 'Intha mari all irugathdigum nadu sathivanmaiyal alium'\n",
      " 'Unlike pannava ava amma ellam item tha Thevadiyanga pasangala Ungamma koothingala kilichiduvan'] \n",
      "\n",
      "Offensive_Untargetede: \n",
      "['Intha maari comments ku like kekuravangala india va vittu veliya annupanum'\n",
      " '250 k likes ineram sila arivuketta pundaika ithku karanam vivek obrai ila kajal ila aksara kakathanu innum sollala?'\n",
      " 'Short film ah yum vittu vakalaya... Enada panni vachirukeenga'\n",
      " 'Otha vaaya odachiruven thalapathiya pathu sirichirukka'\n",
      " '8000 dislike people should die as soon as posiible'] \n",
      "\n",
      "not-Tamil: \n",
      "['I love Ajith Kumar Vivegam movie inki mjy bht achi lgi'\n",
      " 'അണ്ണ പൊളി  259 k likes in 4hours ....'\n",
      " 'في قناتي على اليوتيوب  ( كل ماتتمناه 18 ) ًاشتركو في قناتي فضلً منكم ولا يسى امرا'\n",
      " 'Abe sale ye toh tatti hai'\n",
      " 'You kena tunggu lebih lama lagi untuk tahu saya! Who heard this Malaysians?'] \n",
      "\n"
     ]
    }
   ],
   "source": [
    "print('Not_offensive: ')\n",
    "print(df[df['Labels']=='Not_offensive'].head(5)['Text'].values[:],\"\\n\")\n",
    "print('Offensive_Targeted_Insult_Group: ')\n",
    "print(df[df['Labels']=='Offensive_Targeted_Insult_Group'].head(5)['Text'].values[:],\"\\n\")\n",
    "print('Offensive_Targeted_Insult_Individual: ')\n",
    "print(df[df['Labels']=='Offensive_Targeted_Insult_Individual'].head(5)['Text'].values[:],\"\\n\")\n",
    "print('Offensive_Targeted_Insult_Other: ')\n",
    "print(df[df['Labels']=='Offensive_Targeted_Insult_Other'].head(5)['Text'].values[:],\"\\n\")\n",
    "print('Offensive_Untargetede: ')\n",
    "print(df[df['Labels']=='Offensive_Untargetede'].head(5)['Text'].values[:],\"\\n\")\n",
    "print('not-Tamil: ')\n",
    "print(df[df['Labels']=='not-Tamil'].head(5)['Text'].values[:],\"\\n\")"
   ]
  },
  {
   "cell_type": "markdown",
   "id": "9c04b2b5-21dd-40fc-8ecb-1046c6ab95fd",
   "metadata": {},
   "source": [
    "### Now lets try to clean the data"
   ]
  },
  {
   "cell_type": "code",
   "execution_count": 77,
   "id": "da88bdb3-85ad-4667-852d-0cf6aae5e7fc",
   "metadata": {},
   "outputs": [],
   "source": [
    "stw = stopwords.words('english')"
   ]
  },
  {
   "cell_type": "code",
   "execution_count": 78,
   "id": "bbb37bc8-bbfc-4878-8ea0-fcc31077e28d",
   "metadata": {},
   "outputs": [],
   "source": [
    "\n",
    "def clean(text):\n",
    "    # Convert to lowercase\n",
    "    text = text.lower()\n",
    "    \n",
    "    # Keep only English letters and spaces\n",
    "    text = re.sub(r'[^a-z\\s]', '', text)\n",
    "    \n",
    "    # Remove stopwords if stw is defined\n",
    "    text = \" \".join([word for word in text.split() if word not in stw])\n",
    "    \n",
    "    return text"
   ]
  },
  {
   "cell_type": "code",
   "execution_count": 79,
   "id": "6c496669-79ae-453b-965d-e65f57aec713",
   "metadata": {},
   "outputs": [
    {
     "name": "stdout",
     "output_type": "stream",
     "text": [
      "Before Clean: \n",
      " ['movie vara level la Erika poguthu'\n",
      " 'I love Ajith Kumar Vivegam movie inki mjy bht achi lgi'\n",
      " 'Padam nalla comedy padama irukum polaye..'\n",
      " 'karthick subburaj anne .... intha padam vetri adaya unagalukku ennudaya valthukkal...'\n",
      " 'கவுண்டர் தேவர்.சார்பாக வெற்றி பெற வாழ்த்துக்கள் 🦁']\n",
      "After Clean: \n",
      " ['movie vara level la erika poguthu'\n",
      " 'love ajith kumar vivegam movie inki mjy bht achi lgi'\n",
      " 'padam nalla comedy padama irukum polaye'\n",
      " 'karthick subburaj anne intha padam vetri adaya unagalukku ennudaya valthukkal'\n",
      " 'ippo intha trailer ah parkuravana oru like podunga']\n",
      "CPU times: user 425 ms, sys: 6.44 ms, total: 431 ms\n",
      "Wall time: 431 ms\n"
     ]
    }
   ],
   "source": [
    "%%time\n",
    "print(\"Before Clean: \\n\",df.head()['Text'].values[:])\n",
    "df['Text'] = df['Text'].apply(clean)\n",
    "df = df[df['Text'] != '']\n",
    "print(\"After Clean: \\n\",df.head()['Text'].values[:])"
   ]
  },
  {
   "cell_type": "markdown",
   "id": "7b9c0a85-344a-424a-93ea-af96ff79ceb6",
   "metadata": {},
   "source": [
    "### Now lets check for Term Frequency analysis"
   ]
  },
  {
   "cell_type": "code",
   "execution_count": 80,
   "id": "0c0e00a7-c5e2-470d-a166-5ac383683305",
   "metadata": {},
   "outputs": [],
   "source": [
    "def corpus(text):\n",
    "    text_list = text.split()\n",
    "    return text_list"
   ]
  },
  {
   "cell_type": "code",
   "execution_count": 81,
   "id": "a58f77e0-3d69-4bef-9de4-582f3593700b",
   "metadata": {},
   "outputs": [
    {
     "data": {
      "text/html": [
       "<div>\n",
       "<style scoped>\n",
       "    .dataframe tbody tr th:only-of-type {\n",
       "        vertical-align: middle;\n",
       "    }\n",
       "\n",
       "    .dataframe tbody tr th {\n",
       "        vertical-align: top;\n",
       "    }\n",
       "\n",
       "    .dataframe thead th {\n",
       "        text-align: right;\n",
       "    }\n",
       "</style>\n",
       "<table border=\"1\" class=\"dataframe\">\n",
       "  <thead>\n",
       "    <tr style=\"text-align: right;\">\n",
       "      <th></th>\n",
       "      <th>Text</th>\n",
       "      <th>Labels</th>\n",
       "      <th>Text_list</th>\n",
       "    </tr>\n",
       "  </thead>\n",
       "  <tbody>\n",
       "    <tr>\n",
       "      <th>0</th>\n",
       "      <td>movie vara level la erika poguthu</td>\n",
       "      <td>Not_offensive</td>\n",
       "      <td>[movie, vara, level, la, erika, poguthu]</td>\n",
       "    </tr>\n",
       "    <tr>\n",
       "      <th>1</th>\n",
       "      <td>love ajith kumar vivegam movie inki mjy bht achi lgi</td>\n",
       "      <td>not-Tamil</td>\n",
       "      <td>[love, ajith, kumar, vivegam, movie, inki, mjy, bht, achi, lgi]</td>\n",
       "    </tr>\n",
       "    <tr>\n",
       "      <th>2</th>\n",
       "      <td>padam nalla comedy padama irukum polaye</td>\n",
       "      <td>Not_offensive</td>\n",
       "      <td>[padam, nalla, comedy, padama, irukum, polaye]</td>\n",
       "    </tr>\n",
       "    <tr>\n",
       "      <th>3</th>\n",
       "      <td>karthick subburaj anne intha padam vetri adaya unagalukku ennudaya valthukkal</td>\n",
       "      <td>Not_offensive</td>\n",
       "      <td>[karthick, subburaj, anne, intha, padam, vetri, adaya, unagalukku, ennudaya, valthukkal]</td>\n",
       "    </tr>\n",
       "    <tr>\n",
       "      <th>5</th>\n",
       "      <td>ippo intha trailer ah parkuravana oru like podunga</td>\n",
       "      <td>Not_offensive</td>\n",
       "      <td>[ippo, intha, trailer, ah, parkuravana, oru, like, podunga]</td>\n",
       "    </tr>\n",
       "    <tr>\n",
       "      <th>6</th>\n",
       "      <td>en thalaivan yogi babu irukkaar padam vera level laa irukkum</td>\n",
       "      <td>Not_offensive</td>\n",
       "      <td>[en, thalaivan, yogi, babu, irukkaar, padam, vera, level, laa, irukkum]</td>\n",
       "    </tr>\n",
       "    <tr>\n",
       "      <th>7</th>\n",
       "      <td>nerkonda parvai sema sema sema trailer</td>\n",
       "      <td>Not_offensive</td>\n",
       "      <td>[nerkonda, parvai, sema, sema, sema, trailer]</td>\n",
       "    </tr>\n",
       "    <tr>\n",
       "      <th>9</th>\n",
       "      <td>vara level</td>\n",
       "      <td>Not_offensive</td>\n",
       "      <td>[vara, level]</td>\n",
       "    </tr>\n",
       "    <tr>\n",
       "      <th>10</th>\n",
       "      <td>correct enga apa military da oodi vilaiyada solli tharuvaaaayaa</td>\n",
       "      <td>Offensive_Targeted_Insult_Other</td>\n",
       "      <td>[correct, enga, apa, military, da, oodi, vilaiyada, solli, tharuvaaaayaa]</td>\n",
       "    </tr>\n",
       "    <tr>\n",
       "      <th>11</th>\n",
       "      <td>dislike pottavan ratham khaki dha savan</td>\n",
       "      <td>Not_offensive</td>\n",
       "      <td>[dislike, pottavan, ratham, khaki, dha, savan]</td>\n",
       "    </tr>\n",
       "  </tbody>\n",
       "</table>\n",
       "</div>"
      ],
      "text/plain": [
       "                                                                             Text  \\\n",
       "0                                               movie vara level la erika poguthu   \n",
       "1                            love ajith kumar vivegam movie inki mjy bht achi lgi   \n",
       "2                                         padam nalla comedy padama irukum polaye   \n",
       "3   karthick subburaj anne intha padam vetri adaya unagalukku ennudaya valthukkal   \n",
       "5                              ippo intha trailer ah parkuravana oru like podunga   \n",
       "6                    en thalaivan yogi babu irukkaar padam vera level laa irukkum   \n",
       "7                                          nerkonda parvai sema sema sema trailer   \n",
       "9                                                                      vara level   \n",
       "10                correct enga apa military da oodi vilaiyada solli tharuvaaaayaa   \n",
       "11                                        dislike pottavan ratham khaki dha savan   \n",
       "\n",
       "                             Labels  \\\n",
       "0                     Not_offensive   \n",
       "1                         not-Tamil   \n",
       "2                     Not_offensive   \n",
       "3                     Not_offensive   \n",
       "5                     Not_offensive   \n",
       "6                     Not_offensive   \n",
       "7                     Not_offensive   \n",
       "9                     Not_offensive   \n",
       "10  Offensive_Targeted_Insult_Other   \n",
       "11                    Not_offensive   \n",
       "\n",
       "                                                                                   Text_list  \n",
       "0                                                   [movie, vara, level, la, erika, poguthu]  \n",
       "1                            [love, ajith, kumar, vivegam, movie, inki, mjy, bht, achi, lgi]  \n",
       "2                                             [padam, nalla, comedy, padama, irukum, polaye]  \n",
       "3   [karthick, subburaj, anne, intha, padam, vetri, adaya, unagalukku, ennudaya, valthukkal]  \n",
       "5                                [ippo, intha, trailer, ah, parkuravana, oru, like, podunga]  \n",
       "6                    [en, thalaivan, yogi, babu, irukkaar, padam, vera, level, laa, irukkum]  \n",
       "7                                              [nerkonda, parvai, sema, sema, sema, trailer]  \n",
       "9                                                                              [vara, level]  \n",
       "10                 [correct, enga, apa, military, da, oodi, vilaiyada, solli, tharuvaaaayaa]  \n",
       "11                                            [dislike, pottavan, ratham, khaki, dha, savan]  "
      ]
     },
     "execution_count": 81,
     "metadata": {},
     "output_type": "execute_result"
    }
   ],
   "source": [
    "df['Text_list'] = df['Text'].apply(corpus)\n",
    "df.head(10)"
   ]
  },
  {
   "cell_type": "markdown",
   "id": "c19c2713-7402-4ed8-88f2-b44f3a3690bf",
   "metadata": {},
   "source": [
    "### Lets convert it into list of words\n",
    "- To Analyse the frequancy for offensive"
   ]
  },
  {
   "cell_type": "code",
   "execution_count": 82,
   "id": "621cea94-18ee-4115-be9f-8d6c9eda78ac",
   "metadata": {},
   "outputs": [
    {
     "data": {
      "text/html": [
       "<div>\n",
       "<style scoped>\n",
       "    .dataframe tbody tr th:only-of-type {\n",
       "        vertical-align: middle;\n",
       "    }\n",
       "\n",
       "    .dataframe tbody tr th {\n",
       "        vertical-align: top;\n",
       "    }\n",
       "\n",
       "    .dataframe thead th {\n",
       "        text-align: right;\n",
       "    }\n",
       "</style>\n",
       "<table border=\"1\" class=\"dataframe\">\n",
       "  <thead>\n",
       "    <tr style=\"text-align: right;\">\n",
       "      <th></th>\n",
       "      <th>Text</th>\n",
       "      <th>Labels</th>\n",
       "      <th>Text_list</th>\n",
       "    </tr>\n",
       "  </thead>\n",
       "  <tbody>\n",
       "    <tr>\n",
       "      <th>1</th>\n",
       "      <td>love ajith kumar vivegam movie inki mjy bht achi lgi</td>\n",
       "      <td>not-Tamil</td>\n",
       "      <td>[love, ajith, kumar, vivegam, movie, inki, mjy, bht, achi, lgi]</td>\n",
       "    </tr>\n",
       "    <tr>\n",
       "      <th>10</th>\n",
       "      <td>correct enga apa military da oodi vilaiyada solli tharuvaaaayaa</td>\n",
       "      <td>Offensive_Targeted_Insult_Other</td>\n",
       "      <td>[correct, enga, apa, military, da, oodi, vilaiyada, solli, tharuvaaaayaa]</td>\n",
       "    </tr>\n",
       "    <tr>\n",
       "      <th>17</th>\n",
       "      <td>dei rajini pavam da ne varaven poraven ellam karithuppatha koraiya pesittu erukkan</td>\n",
       "      <td>Offensive_Targeted_Insult_Group</td>\n",
       "      <td>[dei, rajini, pavam, da, ne, varaven, poraven, ellam, karithuppatha, koraiya, pesittu, erukkan]</td>\n",
       "    </tr>\n",
       "    <tr>\n",
       "      <th>20</th>\n",
       "      <td>dey dey deyyy loosu pasangala munna pinna jayalalitha amma va pathrukingalada gambeeramna ennanu avanga kannula tha paakanum amma oda history ah ithu soniya gandhi mari iruku chaiiii avanga bio edukanumna az pathutu vanthu edungadaa dummy akkaathinga</td>\n",
       "      <td>Offensive_Targeted_Insult_Group</td>\n",
       "      <td>[dey, dey, deyyy, loosu, pasangala, munna, pinna, jayalalitha, amma, va, pathrukingalada, gambeeramna, ennanu, avanga, kannula, tha, paakanum, amma, oda, history, ah, ithu, soniya, gandhi, mari, iruku, chaiiii, avanga, bio, edukanumna, az, pathutu, vanthu, edungadaa, dummy, akkaathinga]</td>\n",
       "    </tr>\n",
       "    <tr>\n",
       "      <th>23</th>\n",
       "      <td>intha maari comments ku like kekuravangala india va vittu veliya annupanum</td>\n",
       "      <td>Offensive_Untargetede</td>\n",
       "      <td>[intha, maari, comments, ku, like, kekuravangala, india, va, vittu, veliya, annupanum]</td>\n",
       "    </tr>\n",
       "  </tbody>\n",
       "</table>\n",
       "</div>"
      ],
      "text/plain": [
       "                                                                                                                                                                                                                                                          Text  \\\n",
       "1                                                                                                                                                                                                         love ajith kumar vivegam movie inki mjy bht achi lgi   \n",
       "10                                                                                                                                                                                             correct enga apa military da oodi vilaiyada solli tharuvaaaayaa   \n",
       "17                                                                                                                                                                          dei rajini pavam da ne varaven poraven ellam karithuppatha koraiya pesittu erukkan   \n",
       "20  dey dey deyyy loosu pasangala munna pinna jayalalitha amma va pathrukingalada gambeeramna ennanu avanga kannula tha paakanum amma oda history ah ithu soniya gandhi mari iruku chaiiii avanga bio edukanumna az pathutu vanthu edungadaa dummy akkaathinga   \n",
       "23                                                                                                                                                                                  intha maari comments ku like kekuravangala india va vittu veliya annupanum   \n",
       "\n",
       "                             Labels  \\\n",
       "1                         not-Tamil   \n",
       "10  Offensive_Targeted_Insult_Other   \n",
       "17  Offensive_Targeted_Insult_Group   \n",
       "20  Offensive_Targeted_Insult_Group   \n",
       "23            Offensive_Untargetede   \n",
       "\n",
       "                                                                                                                                                                                                                                                                                          Text_list  \n",
       "1                                                                                                                                                                                                                                   [love, ajith, kumar, vivegam, movie, inki, mjy, bht, achi, lgi]  \n",
       "10                                                                                                                                                                                                                        [correct, enga, apa, military, da, oodi, vilaiyada, solli, tharuvaaaayaa]  \n",
       "17                                                                                                                                                                                                  [dei, rajini, pavam, da, ne, varaven, poraven, ellam, karithuppatha, koraiya, pesittu, erukkan]  \n",
       "20  [dey, dey, deyyy, loosu, pasangala, munna, pinna, jayalalitha, amma, va, pathrukingalada, gambeeramna, ennanu, avanga, kannula, tha, paakanum, amma, oda, history, ah, ithu, soniya, gandhi, mari, iruku, chaiiii, avanga, bio, edukanumna, az, pathutu, vanthu, edungadaa, dummy, akkaathinga]  \n",
       "23                                                                                                                                                                                                           [intha, maari, comments, ku, like, kekuravangala, india, va, vittu, veliya, annupanum]  "
      ]
     },
     "execution_count": 82,
     "metadata": {},
     "output_type": "execute_result"
    }
   ],
   "source": [
    "offdf = df[(df['Labels']!='Not_offensive') & (df['Labels']!='not-malayalam')]\n",
    "offdf.head(5)"
   ]
  },
  {
   "cell_type": "code",
   "execution_count": 83,
   "id": "54d19484-9ff2-4056-af01-f1741bfba52e",
   "metadata": {},
   "outputs": [
    {
     "data": {
      "text/plain": [
       "85204"
      ]
     },
     "execution_count": 83,
     "metadata": {},
     "output_type": "execute_result"
    }
   ],
   "source": [
    "corpus = []\n",
    "for i in range(offdf.shape[0]):\n",
    "    corpus += offdf['Text_list'].iloc[i]\n",
    "len(corpus)"
   ]
  },
  {
   "cell_type": "code",
   "execution_count": 84,
   "id": "1258deba-a880-46b7-ae4e-06316b36800a",
   "metadata": {},
   "outputs": [
    {
     "data": {
      "text/plain": [
       "['love',\n",
       " 'ajith',\n",
       " 'kumar',\n",
       " 'vivegam',\n",
       " 'movie',\n",
       " 'inki',\n",
       " 'mjy',\n",
       " 'bht',\n",
       " 'achi',\n",
       " 'lgi']"
      ]
     },
     "execution_count": 84,
     "metadata": {},
     "output_type": "execute_result"
    }
   ],
   "source": [
    "corpus[:10]"
   ]
  },
  {
   "cell_type": "code",
   "execution_count": 85,
   "id": "a37eab4c-2d76-4dac-b7bc-dac249417126",
   "metadata": {},
   "outputs": [
    {
     "data": {
      "text/plain": [
       "[('da', 1101),\n",
       " ('la', 799),\n",
       " ('trailer', 772),\n",
       " ('padam', 743),\n",
       " ('like', 662),\n",
       " ('ah', 660),\n",
       " ('movie', 601),\n",
       " ('oru', 565),\n",
       " ('nu', 505),\n",
       " ('ku', 461)]"
      ]
     },
     "execution_count": 85,
     "metadata": {},
     "output_type": "execute_result"
    }
   ],
   "source": [
    "mostCommon = Counter(corpus).most_common(10)\n",
    "mostCommon"
   ]
  },
  {
   "cell_type": "code",
   "execution_count": 86,
   "id": "50a2b19e-9712-4f9e-9d93-986adabd6c50",
   "metadata": {},
   "outputs": [],
   "source": [
    "words = []\n",
    "freq = []\n",
    "for word, count in mostCommon:\n",
    "    words.append(word)\n",
    "    freq.append(count)"
   ]
  },
  {
   "cell_type": "code",
   "execution_count": 87,
   "id": "e60bc36a-48ba-4270-a482-b2161a684d69",
   "metadata": {},
   "outputs": [
    {
     "data": {
      "image/png": "[encoded data removed]",
      "text/plain": [
       "<Figure size 800x600 with 1 Axes>"
      ]
     },
     "metadata": {},
     "output_type": "display_data"
    }
   ],
   "source": [
    "plt.figure(figsize=(8, 6))\n",
    "ax = sns.barplot(x=freq, y=words)\n",
    "plt.title('Top 10 Most Frequently Occurring Offensice Sentances')\n",
    "\n",
    "plt.tight_layout()\n",
    "plt.show()"
   ]
  },
  {
   "cell_type": "code",
   "execution_count": null,
   "id": "ece53ade-9e94-409d-8f2a-356ca613cb8b",
   "metadata": {},
   "outputs": [],
   "source": []
  },
  {
   "cell_type": "code",
   "execution_count": null,
   "id": "c9853132-9346-4743-b27d-6478df792372",
   "metadata": {},
   "outputs": [],
   "source": []
  },
  {
   "cell_type": "code",
   "execution_count": null,
   "id": "7c2edacf-795f-4f0c-83e3-459f83e40635",
   "metadata": {},
   "outputs": [],
   "source": []
  }
 ],
 "metadata": {
  "kernelspec": {
   "display_name": "Python 3 (ipykernel)",
   "language": "python",
   "name": "python3"
  },
  "language_info": {
   "codemirror_mode": {
    "name": "ipython",
    "version": 3
   },
   "file_extension": ".py",
   "mimetype": "text/x-python",
   "name": "python",
   "nbconvert_exporter": "python",
   "pygments_lexer": "ipython3",
   "version": "3.13.5"
  }
 },
 "nbformat": 4,
 "nbformat_minor": 5
}
