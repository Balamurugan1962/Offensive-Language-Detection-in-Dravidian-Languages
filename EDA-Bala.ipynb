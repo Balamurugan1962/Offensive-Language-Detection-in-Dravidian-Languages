{
 "cells": [
  {
   "cell_type": "markdown",
   "id": "6cc61523-c183-4d11-bbc4-65dbe5bc79be",
   "metadata": {},
   "source": [
    "# EDA For Offensive Language Classification"
   ]
  },
  {
   "cell_type": "code",
   "execution_count": 279,
   "id": "c4eed075-dfdf-4f5b-8672-48c0a16dd0a8",
   "metadata": {},
   "outputs": [
    {
     "name": "stderr",
     "output_type": "stream",
     "text": [
      "[nltk_data] Downloading package stopwords to\n",
      "[nltk_data]     /Users/balamurugan/nltk_data...\n",
      "[nltk_data]   Package stopwords is already up-to-date!\n"
     ]
    }
   ],
   "source": [
    "import pandas as pd\n",
    "import matplotlib.pyplot as plt\n",
    "import seaborn as sns\n",
    "\n",
    "import re\n",
    "import nltk\n",
    "from collections import Counter\n",
    "nltk.download('stopwords')\n",
    "\n",
    "from nltk.corpus import stopwords\n",
    "pd.set_option('display.max_colwidth', None)"
   ]
  },
  {
   "cell_type": "code",
   "execution_count": 280,
   "id": "d99a175e-8810-4b77-b947-c5374f9b8ac9",
   "metadata": {},
   "outputs": [],
   "source": [
    "tamil_font_path = \"/System/Library/Fonts/Supplemental/Tamil MN.ttc\"\n",
    "tamil_font = fm.FontProperties(fname=tamil_font_path)"
   ]
  },
  {
   "cell_type": "markdown",
   "id": "87e8bcac-ab1b-4079-99b2-3c4f1e896840",
   "metadata": {},
   "source": [
    "### Lets import the tamil dataset "
   ]
  },
  {
   "cell_type": "code",
   "execution_count": 281,
   "id": "a853b415-83c9-4464-86b5-07382cecf7d6",
   "metadata": {},
   "outputs": [
    {
     "data": {
      "text/html": [
       "<div>\n",
       "<style scoped>\n",
       "    .dataframe tbody tr th:only-of-type {\n",
       "        vertical-align: middle;\n",
       "    }\n",
       "\n",
       "    .dataframe tbody tr th {\n",
       "        vertical-align: top;\n",
       "    }\n",
       "\n",
       "    .dataframe thead th {\n",
       "        text-align: right;\n",
       "    }\n",
       "</style>\n",
       "<table border=\"1\" class=\"dataframe\">\n",
       "  <thead>\n",
       "    <tr style=\"text-align: right;\">\n",
       "      <th></th>\n",
       "      <th>Text</th>\n",
       "      <th>Labels</th>\n",
       "    </tr>\n",
       "  </thead>\n",
       "  <tbody>\n",
       "    <tr>\n",
       "      <th>0</th>\n",
       "      <td>പലദേശം. പല ഭാഷ ഒരേ ഒരു രാജാവ്  അല്ലാതെ  സ്വന്തം രാജവയത് അല്ല</td>\n",
       "      <td>Not_offensive</td>\n",
       "    </tr>\n",
       "    <tr>\n",
       "      <th>1</th>\n",
       "      <td>ഈ ഓണം ഏട്ടനും പിള്ളേർക്ക് ഉള്ളതാണ് എന്ന് ഉള്ളവർ ലൈക്‌ അടി</td>\n",
       "      <td>Not_offensive</td>\n",
       "    </tr>\n",
       "    <tr>\n",
       "      <th>2</th>\n",
       "      <td>ആരണ്ട ആരണ്ട തലുണ്ടാകാണാ ആരണ്ട ഞാൻ ആണ്ട ഞാൻ ആണ്ട ഞാൻ Royal Mech ആടാ  ആരണ്ട ആരണ്ട മീശ പിരിക്കുന്ന ആരണ്ട ഞാൻ ആണ്ട ഞാൻ ആണ്ട ഞാൻ royal Mech ആടാ</td>\n",
       "      <td>Not_offensive</td>\n",
       "    </tr>\n",
       "    <tr>\n",
       "      <th>3</th>\n",
       "      <td>Sushin syam  Shaiju khalid  Midhun manual</td>\n",
       "      <td>Not_offensive</td>\n",
       "    </tr>\n",
       "    <tr>\n",
       "      <th>4</th>\n",
       "      <td>J A K E S.   B EJ O Y !!!</td>\n",
       "      <td>Not_offensive</td>\n",
       "    </tr>\n",
       "  </tbody>\n",
       "</table>\n",
       "</div>"
      ],
      "text/plain": [
       "                                                                                                                                         Text  \\\n",
       "0                                                                                പലദേശം. പല ഭാഷ ഒരേ ഒരു രാജാവ്  അല്ലാതെ  സ്വന്തം രാജവയത് അല്ല   \n",
       "1                                                                                   ഈ ഓണം ഏട്ടനും പിള്ളേർക്ക് ഉള്ളതാണ് എന്ന് ഉള്ളവർ ലൈക്‌ അടി   \n",
       "2  ആരണ്ട ആരണ്ട തലുണ്ടാകാണാ ആരണ്ട ഞാൻ ആണ്ട ഞാൻ ആണ്ട ഞാൻ Royal Mech ആടാ  ആരണ്ട ആരണ്ട മീശ പിരിക്കുന്ന ആരണ്ട ഞാൻ ആണ്ട ഞാൻ ആണ്ട ഞാൻ royal Mech ആടാ   \n",
       "3                                                                                                   Sushin syam  Shaiju khalid  Midhun manual   \n",
       "4                                                                                                                   J A K E S.   B EJ O Y !!!   \n",
       "\n",
       "          Labels  \n",
       "0  Not_offensive  \n",
       "1  Not_offensive  \n",
       "2  Not_offensive  \n",
       "3  Not_offensive  \n",
       "4  Not_offensive  "
      ]
     },
     "execution_count": 281,
     "metadata": {},
     "output_type": "execute_result"
    }
   ],
   "source": [
    "df = pd.read_csv('Dataset/mal_full_offensive_train.csv')\n",
    "\n",
    "df.head()"
   ]
  },
  {
   "cell_type": "markdown",
   "id": "20f5fb20-dda3-4304-b77a-d8e7675e92ca",
   "metadata": {},
   "source": [
    "### Now lets check for null"
   ]
  },
  {
   "cell_type": "code",
   "execution_count": 282,
   "id": "75f8fc15-10fb-4786-8974-130bcb291871",
   "metadata": {},
   "outputs": [
    {
     "data": {
      "text/plain": [
       "Text      0\n",
       "Labels    0\n",
       "dtype: int64"
      ]
     },
     "execution_count": 282,
     "metadata": {},
     "output_type": "execute_result"
    }
   ],
   "source": [
    "df.isnull().sum()"
   ]
  },
  {
   "cell_type": "markdown",
   "id": "12a96761-7320-47c5-94a8-6c6bbd9f7505",
   "metadata": {},
   "source": [
    "So the data is clean without any null values\n",
    "\n",
    "### Lets check for the classes"
   ]
  },
  {
   "cell_type": "code",
   "execution_count": 283,
   "id": "0afd9cd7-7206-44a2-be8a-d69eb1a2df45",
   "metadata": {},
   "outputs": [
    {
     "data": {
      "text/plain": [
       "{'Not_offensive',\n",
       " 'Offensive_Targeted_Insult_Group',\n",
       " 'Offensive_Targeted_Insult_Individual',\n",
       " 'Offensive_Untargetede',\n",
       " 'not-malayalam'}"
      ]
     },
     "execution_count": 283,
     "metadata": {},
     "output_type": "execute_result"
    }
   ],
   "source": [
    "set(df['Labels'])"
   ]
  },
  {
   "cell_type": "markdown",
   "id": "055f8594-84d7-472d-8ef1-fd2d669e0459",
   "metadata": {},
   "source": [
    "We have 6 main classes but they wanted output to be 4 classes"
   ]
  },
  {
   "cell_type": "code",
   "execution_count": 284,
   "id": "724bfe53-f967-4b00-99f3-13f95bda4f9a",
   "metadata": {},
   "outputs": [
    {
     "name": "stdout",
     "output_type": "stream",
     "text": [
      "Not_offensive: \n",
      "['പലദേശം. പല ഭാഷ ഒരേ ഒരു രാജാവ്  അല്ലാതെ  സ്വന്തം രാജവയത് അല്ല'\n",
      " 'ഈ ഓണം ഏട്ടനും പിള്ളേർക്ക് ഉള്ളതാണ് എന്ന് ഉള്ളവർ ലൈക്\\u200c അടി'\n",
      " 'ആരണ്ട ആരണ്ട തലുണ്ടാകാണാ ആരണ്ട ഞാൻ ആണ്ട ഞാൻ ആണ്ട ഞാൻ Royal Mech ആടാ  ആരണ്ട ആരണ്ട മീശ പിരിക്കുന്ന ആരണ്ട ഞാൻ ആണ്ട ഞാൻ ആണ്ട ഞാൻ royal Mech ആടാ'\n",
      " 'Sushin syam  Shaiju khalid  Midhun manual' 'J A K E S.   B EJ O Y !!!'] \n",
      "\n",
      "Offensive_Targeted_Insult_Group: \n",
      "['ജിമിട്ടൊളികൾ ഇപ്പോളെ unlike അടിച്ചു തുടങ്ങി  അസുരൻ loading..'\n",
      " 'Muriyandikal pannikuutatam pole thurimezhukuvansllooscenes are rememmbering pulimurugan'\n",
      " 'ആരും  കണ്ടേക്കരുതേ'\n",
      " 'ഗുഹൻ ഫാൻസ്\\u200c ഡിസ്\\u200cലൈക്ക് അടിച്ചു തകർക്കുവാണല്ലോ'\n",
      " 'aa dislike  mikkathum  mohan lal fans aayirikkum'] \n",
      "\n",
      "Offensive_Targeted_Insult_Individual: \n",
      "['Jobi jorge padam ano. Potti mone'\n",
      " 'Nth bhashayado ith vech ketti malabr bhasha samsarikkunnu. Mohanlal malabarine kaliyakkunnu'\n",
      " 'Iyyalkke rest cheyyanulla time aayilla.. kanda oola padagalilellam abinayiche vila poi paavam..'\n",
      " 'Al veruppikkal Mammotty ude vere oru adipoli veruppikkal padamayirikku ith'\n",
      " 'Ni arda vadha beeshani ondakan..patti ..inala vannu korach cinema edthpo ni ethanda vallya kopila producer ayen thonuna..pooy chathudeda mayre'] \n",
      "\n",
      "Offensive_Targeted_Insult_Other: \n",
      "[] \n",
      "\n",
      "Offensive_Untargetede: \n",
      "['eda rithwik nine njan theriparjilaloo ennitt ninte samkkaram kanichuvale f fff .valarthu dhosham nint ppp'\n",
      " 'Trailer Releasinu munne 6k dislike itta ella punnara malarukalkum nadu viral namaskaram.... Chettakale'\n",
      " 'Itinum dislike adikkan aalundallo...nallatine angeegarikkan padikk... duranthangal...'\n",
      " 'Nalla assal moonjjal thank you lola'\n",
      " 'Dislike adikunavanmaruda oru thandakku vili varavu vechakke'] \n",
      "\n",
      "not-Tamil: \n",
      "[] \n",
      "\n"
     ]
    }
   ],
   "source": [
    "print('Not_offensive: ')\n",
    "print(df[df['Labels']=='Not_offensive'].head(5)['Text'].values[:],\"\\n\")\n",
    "print('Offensive_Targeted_Insult_Group: ')\n",
    "print(df[df['Labels']=='Offensive_Targeted_Insult_Group'].head(5)['Text'].values[:],\"\\n\")\n",
    "print('Offensive_Targeted_Insult_Individual: ')\n",
    "print(df[df['Labels']=='Offensive_Targeted_Insult_Individual'].head(5)['Text'].values[:],\"\\n\")\n",
    "print('Offensive_Targeted_Insult_Other: ')\n",
    "print(df[df['Labels']=='Offensive_Targeted_Insult_Other'].head(5)['Text'].values[:],\"\\n\")\n",
    "print('Offensive_Untargetede: ')\n",
    "print(df[df['Labels']=='Offensive_Untargetede'].head(5)['Text'].values[:],\"\\n\")\n",
    "print('not-Tamil: ')\n",
    "print(df[df['Labels']=='not-Tamil'].head(5)['Text'].values[:],\"\\n\")"
   ]
  },
  {
   "cell_type": "markdown",
   "id": "9c04b2b5-21dd-40fc-8ecb-1046c6ab95fd",
   "metadata": {},
   "source": [
    "### Now lets try to clean the data"
   ]
  },
  {
   "cell_type": "code",
   "execution_count": 305,
   "id": "da88bdb3-85ad-4667-852d-0cf6aae5e7fc",
   "metadata": {},
   "outputs": [],
   "source": [
    "stw = stopwords.words('english') + ['like','love','fans','movie','dislike','trailer']"
   ]
  },
  {
   "cell_type": "code",
   "execution_count": 306,
   "id": "bbb37bc8-bbfc-4878-8ea0-fcc31077e28d",
   "metadata": {},
   "outputs": [],
   "source": [
    "def clean(text):\n",
    "    text = text.lower()\n",
    "    text = re.sub(r'[^\\w\\s]', '', text, flags=re.UNICODE)\n",
    "    text = \" \".join([word for word in text.split() if word not in stw])\n",
    "    return text"
   ]
  },
  {
   "cell_type": "code",
   "execution_count": 307,
   "id": "6c496669-79ae-453b-965d-e65f57aec713",
   "metadata": {},
   "outputs": [
    {
     "name": "stdout",
     "output_type": "stream",
     "text": [
      "Before Clean: \n",
      " ['പലദശ പല ഭഷ ഒര ഒര രജവ അലലത സവനത രജവയത അലല'\n",
      " 'ഈ ഓണ ഏടടന പളളർകക ഉളളതണ എനന ഉളളവർ ലക അട'\n",
      " 'ആരണട ആരണട തലണടകണ ആരണട ഞൻ ആണട ഞൻ ആണട ഞൻ royal mech ആട ആരണട ആരണട മശ പരകകനന ആരണട ഞൻ ആണട ഞൻ ആണട ഞൻ royal mech ആട'\n",
      " 'sushin syam shaiju khalid midhun manual' 'j k e b ej']\n",
      "After Clean: \n",
      " ['പലദശ പല ഭഷ ഒര ഒര രജവ അലലത സവനത രജവയത അലല'\n",
      " 'ഈ ഓണ ഏടടന പളളർകക ഉളളതണ എനന ഉളളവർ ലക അട'\n",
      " 'ആരണട ആരണട തലണടകണ ആരണട ഞൻ ആണട ഞൻ ആണട ഞൻ royal mech ആട ആരണട ആരണട മശ പരകകനന ആരണട ഞൻ ആണട ഞൻ ആണട ഞൻ royal mech ആട'\n",
      " 'sushin syam shaiju khalid midhun manual' 'j k e b ej']\n",
      "CPU times: user 241 ms, sys: 17.3 ms, total: 258 ms\n",
      "Wall time: 315 ms\n"
     ]
    }
   ],
   "source": [
    "%%time\n",
    "print(\"Before Clean: \\n\",df.head()['Text'].values[:])\n",
    "df['Text'] = df['Text'].apply(clean)\n",
    "print(\"After Clean: \\n\",df.head()['Text'].values[:])"
   ]
  },
  {
   "cell_type": "markdown",
   "id": "7b9c0a85-344a-424a-93ea-af96ff79ceb6",
   "metadata": {},
   "source": [
    "### Now lets check for Term Frequency analysis"
   ]
  },
  {
   "cell_type": "code",
   "execution_count": 308,
   "id": "0c0e00a7-c5e2-470d-a166-5ac383683305",
   "metadata": {},
   "outputs": [],
   "source": [
    "def corpus(text):\n",
    "    text_list = text.split()\n",
    "    return text_list"
   ]
  },
  {
   "cell_type": "code",
   "execution_count": 309,
   "id": "a58f77e0-3d69-4bef-9de4-582f3593700b",
   "metadata": {},
   "outputs": [
    {
     "data": {
      "text/html": [
       "<div>\n",
       "<style scoped>\n",
       "    .dataframe tbody tr th:only-of-type {\n",
       "        vertical-align: middle;\n",
       "    }\n",
       "\n",
       "    .dataframe tbody tr th {\n",
       "        vertical-align: top;\n",
       "    }\n",
       "\n",
       "    .dataframe thead th {\n",
       "        text-align: right;\n",
       "    }\n",
       "</style>\n",
       "<table border=\"1\" class=\"dataframe\">\n",
       "  <thead>\n",
       "    <tr style=\"text-align: right;\">\n",
       "      <th></th>\n",
       "      <th>Text</th>\n",
       "      <th>Labels</th>\n",
       "      <th>Text_list</th>\n",
       "    </tr>\n",
       "  </thead>\n",
       "  <tbody>\n",
       "    <tr>\n",
       "      <th>0</th>\n",
       "      <td>പലദശ പല ഭഷ ഒര ഒര രജവ അലലത സവനത രജവയത അലല</td>\n",
       "      <td>Not_offensive</td>\n",
       "      <td>[പലദശ, പല, ഭഷ, ഒര, ഒര, രജവ, അലലത, സവനത, രജവയത, അലല]</td>\n",
       "    </tr>\n",
       "    <tr>\n",
       "      <th>1</th>\n",
       "      <td>ഈ ഓണ ഏടടന പളളർകക ഉളളതണ എനന ഉളളവർ ലക അട</td>\n",
       "      <td>Not_offensive</td>\n",
       "      <td>[ഈ, ഓണ, ഏടടന, പളളർകക, ഉളളതണ, എനന, ഉളളവർ, ലക, അട]</td>\n",
       "    </tr>\n",
       "    <tr>\n",
       "      <th>2</th>\n",
       "      <td>ആരണട ആരണട തലണടകണ ആരണട ഞൻ ആണട ഞൻ ആണട ഞൻ royal mech ആട ആരണട ആരണട മശ പരകകനന ആരണട ഞൻ ആണട ഞൻ ആണട ഞൻ royal mech ആട</td>\n",
       "      <td>Not_offensive</td>\n",
       "      <td>[ആരണട, ആരണട, തലണടകണ, ആരണട, ഞൻ, ആണട, ഞൻ, ആണട, ഞൻ, royal, mech, ആട, ആരണട, ആരണട, മശ, പരകകനന, ആരണട, ഞൻ, ആണട, ഞൻ, ആണട, ഞൻ, royal, mech, ആട]</td>\n",
       "    </tr>\n",
       "    <tr>\n",
       "      <th>3</th>\n",
       "      <td>sushin syam shaiju khalid midhun manual</td>\n",
       "      <td>Not_offensive</td>\n",
       "      <td>[sushin, syam, shaiju, khalid, midhun, manual]</td>\n",
       "    </tr>\n",
       "    <tr>\n",
       "      <th>4</th>\n",
       "      <td>j k e b ej</td>\n",
       "      <td>Not_offensive</td>\n",
       "      <td>[j, k, e, b, ej]</td>\n",
       "    </tr>\n",
       "    <tr>\n",
       "      <th>5</th>\n",
       "      <td>pwoli item padam kananda ennu karuthiyatha pakshe ini kaanum</td>\n",
       "      <td>Not_offensive</td>\n",
       "      <td>[pwoli, item, padam, kananda, ennu, karuthiyatha, pakshe, ini, kaanum]</td>\n",
       "    </tr>\n",
       "    <tr>\n",
       "      <th>6</th>\n",
       "      <td>oru ratchasan feel kittitu ullalo bgm athra adipoliyano</td>\n",
       "      <td>Not_offensive</td>\n",
       "      <td>[oru, ratchasan, feel, kittitu, ullalo, bgm, athra, adipoliyano]</td>\n",
       "    </tr>\n",
       "    <tr>\n",
       "      <th>7</th>\n",
       "      <td>super casting</td>\n",
       "      <td>Not_offensive</td>\n",
       "      <td>[super, casting]</td>\n",
       "    </tr>\n",
       "    <tr>\n",
       "      <th>8</th>\n",
       "      <td>ഷലകക നറ നലല ടസർ ആയടട പല ടരള നടനന ലലടടൻ ഫൻസന കടടയര നലലര തരചചട തനന ആയരനന ബഗ ബരദർ നറ ടരയലർ</td>\n",
       "      <td>Not_offensive</td>\n",
       "      <td>[ഷലകക, നറ, നലല, ടസർ, ആയടട, പല, ടരള, നടനന, ലലടടൻ, ഫൻസന, കടടയര, നലലര, തരചചട, തനന, ആയരനന, ബഗ, ബരദർ, നറ, ടരയലർ]</td>\n",
       "    </tr>\n",
       "    <tr>\n",
       "      <th>9</th>\n",
       "      <td>നറമമ ഇജജത trailor uffftrailor ethegilum padam pwoliyo pwoli</td>\n",
       "      <td>Not_offensive</td>\n",
       "      <td>[നറമമ, ഇജജത, trailor, uffftrailor, ethegilum, padam, pwoliyo, pwoli]</td>\n",
       "    </tr>\n",
       "  </tbody>\n",
       "</table>\n",
       "</div>"
      ],
      "text/plain": [
       "                                                                                                           Text  \\\n",
       "0                                                                      പലദശ പല ഭഷ ഒര ഒര രജവ അലലത സവനത രജവയത അലല   \n",
       "1                                                                        ഈ ഓണ ഏടടന പളളർകക ഉളളതണ എനന ഉളളവർ ലക അട   \n",
       "2  ആരണട ആരണട തലണടകണ ആരണട ഞൻ ആണട ഞൻ ആണട ഞൻ royal mech ആട ആരണട ആരണട മശ പരകകനന ആരണട ഞൻ ആണട ഞൻ ആണട ഞൻ royal mech ആട   \n",
       "3                                                                       sushin syam shaiju khalid midhun manual   \n",
       "4                                                                                                    j k e b ej   \n",
       "5                                                  pwoli item padam kananda ennu karuthiyatha pakshe ini kaanum   \n",
       "6                                                       oru ratchasan feel kittitu ullalo bgm athra adipoliyano   \n",
       "7                                                                                                 super casting   \n",
       "8                       ഷലകക നറ നലല ടസർ ആയടട പല ടരള നടനന ലലടടൻ ഫൻസന കടടയര നലലര തരചചട തനന ആയരനന ബഗ ബരദർ നറ ടരയലർ   \n",
       "9                                                   നറമമ ഇജജത trailor uffftrailor ethegilum padam pwoliyo pwoli   \n",
       "\n",
       "          Labels  \\\n",
       "0  Not_offensive   \n",
       "1  Not_offensive   \n",
       "2  Not_offensive   \n",
       "3  Not_offensive   \n",
       "4  Not_offensive   \n",
       "5  Not_offensive   \n",
       "6  Not_offensive   \n",
       "7  Not_offensive   \n",
       "8  Not_offensive   \n",
       "9  Not_offensive   \n",
       "\n",
       "                                                                                                                                Text_list  \n",
       "0                                                                                     [പലദശ, പല, ഭഷ, ഒര, ഒര, രജവ, അലലത, സവനത, രജവയത, അലല]  \n",
       "1                                                                                        [ഈ, ഓണ, ഏടടന, പളളർകക, ഉളളതണ, എനന, ഉളളവർ, ലക, അട]  \n",
       "2  [ആരണട, ആരണട, തലണടകണ, ആരണട, ഞൻ, ആണട, ഞൻ, ആണട, ഞൻ, royal, mech, ആട, ആരണട, ആരണട, മശ, പരകകനന, ആരണട, ഞൻ, ആണട, ഞൻ, ആണട, ഞൻ, royal, mech, ആട]  \n",
       "3                                                                                          [sushin, syam, shaiju, khalid, midhun, manual]  \n",
       "4                                                                                                                        [j, k, e, b, ej]  \n",
       "5                                                                  [pwoli, item, padam, kananda, ennu, karuthiyatha, pakshe, ini, kaanum]  \n",
       "6                                                                        [oru, ratchasan, feel, kittitu, ullalo, bgm, athra, adipoliyano]  \n",
       "7                                                                                                                        [super, casting]  \n",
       "8                             [ഷലകക, നറ, നലല, ടസർ, ആയടട, പല, ടരള, നടനന, ലലടടൻ, ഫൻസന, കടടയര, നലലര, തരചചട, തനന, ആയരനന, ബഗ, ബരദർ, നറ, ടരയലർ]  \n",
       "9                                                                    [നറമമ, ഇജജത, trailor, uffftrailor, ethegilum, padam, pwoliyo, pwoli]  "
      ]
     },
     "execution_count": 309,
     "metadata": {},
     "output_type": "execute_result"
    }
   ],
   "source": [
    "df['Text_list'] = df['Text'].apply(corpus)\n",
    "df.head(10)"
   ]
  },
  {
   "cell_type": "markdown",
   "id": "c19c2713-7402-4ed8-88f2-b44f3a3690bf",
   "metadata": {},
   "source": [
    "### Lets convert it into list of words\n",
    "- To Analyse the frequancy for offensive"
   ]
  },
  {
   "cell_type": "code",
   "execution_count": 318,
   "id": "621cea94-18ee-4115-be9f-8d6c9eda78ac",
   "metadata": {},
   "outputs": [
    {
     "data": {
      "text/html": [
       "<div>\n",
       "<style scoped>\n",
       "    .dataframe tbody tr th:only-of-type {\n",
       "        vertical-align: middle;\n",
       "    }\n",
       "\n",
       "    .dataframe tbody tr th {\n",
       "        vertical-align: top;\n",
       "    }\n",
       "\n",
       "    .dataframe thead th {\n",
       "        text-align: right;\n",
       "    }\n",
       "</style>\n",
       "<table border=\"1\" class=\"dataframe\">\n",
       "  <thead>\n",
       "    <tr style=\"text-align: right;\">\n",
       "      <th></th>\n",
       "      <th>Text</th>\n",
       "      <th>Labels</th>\n",
       "      <th>Text_list</th>\n",
       "    </tr>\n",
       "  </thead>\n",
       "  <tbody>\n",
       "    <tr>\n",
       "      <th>23</th>\n",
       "      <td>jobi jorge padam ano potti mone</td>\n",
       "      <td>Offensive_Targeted_Insult_Individual</td>\n",
       "      <td>[jobi, jorge, padam, ano, potti, mone]</td>\n",
       "    </tr>\n",
       "    <tr>\n",
       "      <th>44</th>\n",
       "      <td>ജമടടളകൾ ഇപപള unlike അടചച തടങങ അസരൻ loading</td>\n",
       "      <td>Offensive_Targeted_Insult_Group</td>\n",
       "      <td>[ജമടടളകൾ, ഇപപള, unlike, അടചച, തടങങ, അസരൻ, loading]</td>\n",
       "    </tr>\n",
       "    <tr>\n",
       "      <th>45</th>\n",
       "      <td>muriyandikal pannikuutatam pole thurimezhukuvansllooscenes rememmbering pulimurugan</td>\n",
       "      <td>Offensive_Targeted_Insult_Group</td>\n",
       "      <td>[muriyandikal, pannikuutatam, pole, thurimezhukuvansllooscenes, rememmbering, pulimurugan]</td>\n",
       "    </tr>\n",
       "    <tr>\n",
       "      <th>46</th>\n",
       "      <td>nth bhashayado ith vech ketti malabr bhasha samsarikkunnu mohanlal malabarine kaliyakkunnu</td>\n",
       "      <td>Offensive_Targeted_Insult_Individual</td>\n",
       "      <td>[nth, bhashayado, ith, vech, ketti, malabr, bhasha, samsarikkunnu, mohanlal, malabarine, kaliyakkunnu]</td>\n",
       "    </tr>\n",
       "    <tr>\n",
       "      <th>92</th>\n",
       "      <td>ആര കണടകകരത</td>\n",
       "      <td>Offensive_Targeted_Insult_Group</td>\n",
       "      <td>[ആര, കണടകകരത]</td>\n",
       "    </tr>\n",
       "  </tbody>\n",
       "</table>\n",
       "</div>"
      ],
      "text/plain": [
       "                                                                                          Text  \\\n",
       "23                                                             jobi jorge padam ano potti mone   \n",
       "44                                                  ജമടടളകൾ ഇപപള unlike അടചച തടങങ അസരൻ loading   \n",
       "45         muriyandikal pannikuutatam pole thurimezhukuvansllooscenes rememmbering pulimurugan   \n",
       "46  nth bhashayado ith vech ketti malabr bhasha samsarikkunnu mohanlal malabarine kaliyakkunnu   \n",
       "92                                                                                  ആര കണടകകരത   \n",
       "\n",
       "                                  Labels  \\\n",
       "23  Offensive_Targeted_Insult_Individual   \n",
       "44       Offensive_Targeted_Insult_Group   \n",
       "45       Offensive_Targeted_Insult_Group   \n",
       "46  Offensive_Targeted_Insult_Individual   \n",
       "92       Offensive_Targeted_Insult_Group   \n",
       "\n",
       "                                                                                                 Text_list  \n",
       "23                                                                  [jobi, jorge, padam, ano, potti, mone]  \n",
       "44                                                      [ജമടടളകൾ, ഇപപള, unlike, അടചച, തടങങ, അസരൻ, loading]  \n",
       "45              [muriyandikal, pannikuutatam, pole, thurimezhukuvansllooscenes, rememmbering, pulimurugan]  \n",
       "46  [nth, bhashayado, ith, vech, ketti, malabr, bhasha, samsarikkunnu, mohanlal, malabarine, kaliyakkunnu]  \n",
       "92                                                                                           [ആര, കണടകകരത]  "
      ]
     },
     "execution_count": 318,
     "metadata": {},
     "output_type": "execute_result"
    }
   ],
   "source": [
    "offdf = df[(df['Labels']!='Not_offensive') & (df['Labels']!='not-malayalam')]\n",
    "offdf.head(5)"
   ]
  },
  {
   "cell_type": "code",
   "execution_count": 319,
   "id": "54d19484-9ff2-4056-af01-f1741bfba52e",
   "metadata": {},
   "outputs": [
    {
     "data": {
      "text/plain": [
       "5713"
      ]
     },
     "execution_count": 319,
     "metadata": {},
     "output_type": "execute_result"
    }
   ],
   "source": [
    "corpus = []\n",
    "for i in range(offdf.shape[0]):\n",
    "    corpus += offdf['Text_list'].iloc[i]\n",
    "len(corpus)"
   ]
  },
  {
   "cell_type": "code",
   "execution_count": 320,
   "id": "1258deba-a880-46b7-ae4e-06316b36800a",
   "metadata": {},
   "outputs": [
    {
     "data": {
      "text/plain": [
       "['jobi',\n",
       " 'jorge',\n",
       " 'padam',\n",
       " 'ano',\n",
       " 'potti',\n",
       " 'mone',\n",
       " 'ജമടടളകൾ',\n",
       " 'ഇപപള',\n",
       " 'unlike',\n",
       " 'അടചച']"
      ]
     },
     "execution_count": 320,
     "metadata": {},
     "output_type": "execute_result"
    }
   ],
   "source": [
    "corpus[:10]"
   ]
  },
  {
   "cell_type": "code",
   "execution_count": 321,
   "id": "a37eab4c-2d76-4dac-b7bc-dac249417126",
   "metadata": {},
   "outputs": [
    {
     "data": {
      "text/plain": [
       "[('padam', 51),\n",
       " ('oru', 50),\n",
       " ('ഈ', 44),\n",
       " ('ആണ', 37),\n",
       " ('എനന', 32),\n",
       " ('പട', 30),\n",
       " ('ഇത', 29),\n",
       " ('adicha', 25),\n",
       " ('nalla', 22),\n",
       " ('എനത', 22)]"
      ]
     },
     "execution_count": 321,
     "metadata": {},
     "output_type": "execute_result"
    }
   ],
   "source": [
    "mostCommon = Counter(corpus).most_common(10)\n",
    "mostCommon"
   ]
  },
  {
   "cell_type": "code",
   "execution_count": 322,
   "id": "50a2b19e-9712-4f9e-9d93-986adabd6c50",
   "metadata": {},
   "outputs": [],
   "source": [
    "words = []\n",
    "freq = []\n",
    "for word, count in mostCommon:\n",
    "    words.append(word)\n",
    "    freq.append(count)"
   ]
  },
  {
   "cell_type": "code",
   "execution_count": 323,
   "id": "e60bc36a-48ba-4270-a482-b2161a684d69",
   "metadata": {},
   "outputs": [
    {
     "name": "stderr",
     "output_type": "stream",
     "text": [
      "/var/folders/ys/19b63m0164d7n0v0p6t_gr980000gn/T/ipykernel_78155/3464029207.py:12: UserWarning: Glyph 3336 (\\N{MALAYALAM LETTER II}) missing from font(s) Tamil MN.\n",
      "  plt.tight_layout()\n",
      "/var/folders/ys/19b63m0164d7n0v0p6t_gr980000gn/T/ipykernel_78155/3464029207.py:12: UserWarning: Matplotlib currently does not support Malayalam natively.\n",
      "  plt.tight_layout()\n",
      "/var/folders/ys/19b63m0164d7n0v0p6t_gr980000gn/T/ipykernel_78155/3464029207.py:12: UserWarning: Glyph 3334 (\\N{MALAYALAM LETTER AA}) missing from font(s) Tamil MN.\n",
      "  plt.tight_layout()\n",
      "/var/folders/ys/19b63m0164d7n0v0p6t_gr980000gn/T/ipykernel_78155/3464029207.py:12: UserWarning: Glyph 3363 (\\N{MALAYALAM LETTER NNA}) missing from font(s) Tamil MN.\n",
      "  plt.tight_layout()\n",
      "/var/folders/ys/19b63m0164d7n0v0p6t_gr980000gn/T/ipykernel_78155/3464029207.py:12: UserWarning: Glyph 3342 (\\N{MALAYALAM LETTER E}) missing from font(s) Tamil MN.\n",
      "  plt.tight_layout()\n",
      "/var/folders/ys/19b63m0164d7n0v0p6t_gr980000gn/T/ipykernel_78155/3464029207.py:12: UserWarning: Glyph 3368 (\\N{MALAYALAM LETTER NA}) missing from font(s) Tamil MN.\n",
      "  plt.tight_layout()\n",
      "/var/folders/ys/19b63m0164d7n0v0p6t_gr980000gn/T/ipykernel_78155/3464029207.py:12: UserWarning: Glyph 3370 (\\N{MALAYALAM LETTER PA}) missing from font(s) Tamil MN.\n",
      "  plt.tight_layout()\n",
      "/var/folders/ys/19b63m0164d7n0v0p6t_gr980000gn/T/ipykernel_78155/3464029207.py:12: UserWarning: Glyph 3359 (\\N{MALAYALAM LETTER TTA}) missing from font(s) Tamil MN.\n",
      "  plt.tight_layout()\n",
      "/var/folders/ys/19b63m0164d7n0v0p6t_gr980000gn/T/ipykernel_78155/3464029207.py:12: UserWarning: Glyph 3335 (\\N{MALAYALAM LETTER I}) missing from font(s) Tamil MN.\n",
      "  plt.tight_layout()\n",
      "/var/folders/ys/19b63m0164d7n0v0p6t_gr980000gn/T/ipykernel_78155/3464029207.py:12: UserWarning: Glyph 3364 (\\N{MALAYALAM LETTER TA}) missing from font(s) Tamil MN.\n",
      "  plt.tight_layout()\n",
      "/opt/homebrew/Cellar/jupyterlab/4.4.3_3/libexec/lib/python3.13/site-packages/IPython/core/pylabtools.py:170: UserWarning: Glyph 3336 (\\N{MALAYALAM LETTER II}) missing from font(s) Tamil MN.\n",
      "  fig.canvas.print_figure(bytes_io, **kw)\n",
      "/opt/homebrew/Cellar/jupyterlab/4.4.3_3/libexec/lib/python3.13/site-packages/IPython/core/pylabtools.py:170: UserWarning: Matplotlib currently does not support Malayalam natively.\n",
      "  fig.canvas.print_figure(bytes_io, **kw)\n",
      "/opt/homebrew/Cellar/jupyterlab/4.4.3_3/libexec/lib/python3.13/site-packages/IPython/core/pylabtools.py:170: UserWarning: Glyph 3334 (\\N{MALAYALAM LETTER AA}) missing from font(s) Tamil MN.\n",
      "  fig.canvas.print_figure(bytes_io, **kw)\n",
      "/opt/homebrew/Cellar/jupyterlab/4.4.3_3/libexec/lib/python3.13/site-packages/IPython/core/pylabtools.py:170: UserWarning: Glyph 3363 (\\N{MALAYALAM LETTER NNA}) missing from font(s) Tamil MN.\n",
      "  fig.canvas.print_figure(bytes_io, **kw)\n",
      "/opt/homebrew/Cellar/jupyterlab/4.4.3_3/libexec/lib/python3.13/site-packages/IPython/core/pylabtools.py:170: UserWarning: Glyph 3342 (\\N{MALAYALAM LETTER E}) missing from font(s) Tamil MN.\n",
      "  fig.canvas.print_figure(bytes_io, **kw)\n",
      "/opt/homebrew/Cellar/jupyterlab/4.4.3_3/libexec/lib/python3.13/site-packages/IPython/core/pylabtools.py:170: UserWarning: Glyph 3368 (\\N{MALAYALAM LETTER NA}) missing from font(s) Tamil MN.\n",
      "  fig.canvas.print_figure(bytes_io, **kw)\n",
      "/opt/homebrew/Cellar/jupyterlab/4.4.3_3/libexec/lib/python3.13/site-packages/IPython/core/pylabtools.py:170: UserWarning: Glyph 3370 (\\N{MALAYALAM LETTER PA}) missing from font(s) Tamil MN.\n",
      "  fig.canvas.print_figure(bytes_io, **kw)\n",
      "/opt/homebrew/Cellar/jupyterlab/4.4.3_3/libexec/lib/python3.13/site-packages/IPython/core/pylabtools.py:170: UserWarning: Glyph 3359 (\\N{MALAYALAM LETTER TTA}) missing from font(s) Tamil MN.\n",
      "  fig.canvas.print_figure(bytes_io, **kw)\n",
      "/opt/homebrew/Cellar/jupyterlab/4.4.3_3/libexec/lib/python3.13/site-packages/IPython/core/pylabtools.py:170: UserWarning: Glyph 3335 (\\N{MALAYALAM LETTER I}) missing from font(s) Tamil MN.\n",
      "  fig.canvas.print_figure(bytes_io, **kw)\n",
      "/opt/homebrew/Cellar/jupyterlab/4.4.3_3/libexec/lib/python3.13/site-packages/IPython/core/pylabtools.py:170: UserWarning: Glyph 3364 (\\N{MALAYALAM LETTER TA}) missing from font(s) Tamil MN.\n",
      "  fig.canvas.print_figure(bytes_io, **kw)\n"
     ]
    },
    {
     "data": {
      "image/png": "[encoded data removed]",
      "text/plain": [
       "<Figure size 800x600 with 1 Axes>"
      ]
     },
     "metadata": {},
     "output_type": "display_data"
    }
   ],
   "source": [
    "plt.figure(figsize=(8, 6))\n",
    "ax = sns.barplot(x=freq, y=words)\n",
    "\n",
    "for label in ax.get_yticklabels():\n",
    "    label.set_fontproperties(tamil_font)\n",
    "\n",
    "for label in ax.get_xticklabels():\n",
    "    label.set_fontproperties(tamil_font)\n",
    "\n",
    "plt.title('Top 10 Most Frequently Occurring Offensice Sentances')\n",
    "\n",
    "plt.tight_layout()\n",
    "plt.show()"
   ]
  },
  {
   "cell_type": "code",
   "execution_count": null,
   "id": "ece53ade-9e94-409d-8f2a-356ca613cb8b",
   "metadata": {},
   "outputs": [],
   "source": []
  },
  {
   "cell_type": "code",
   "execution_count": null,
   "id": "c9853132-9346-4743-b27d-6478df792372",
   "metadata": {},
   "outputs": [],
   "source": []
  }
 ],
 "metadata": {
  "kernelspec": {
   "display_name": "Python 3 (ipykernel)",
   "language": "python",
   "name": "python3"
  },
  "language_info": {
   "codemirror_mode": {
    "name": "ipython",
    "version": 3
   },
   "file_extension": ".py",
   "mimetype": "text/x-python",
   "name": "python",
   "nbconvert_exporter": "python",
   "pygments_lexer": "ipython3",
   "version": "3.13.5"
  }
 },
 "nbformat": 4,
 "nbformat_minor": 5
}
